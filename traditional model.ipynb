{
 "cells": [
  {
   "cell_type": "markdown",
   "metadata": {},
   "source": [
    "利用专家打分法评估已经预处理好的管道数据，再用层次分析法乘上各指标权重加和得到每个管段的风险值，并进行排序，输出到文件。"
   ]
  },
  {
   "cell_type": "code",
   "execution_count": null,
   "metadata": {},
   "outputs": [],
   "source": [
    "#导入数据\n",
    "import numpy as np\n",
    "c=np.loadtxt('2-.csv',delimiter=',',skiprows=1)\n",
    "s=c.copy()"
   ]
  },
  {
   "cell_type": "code",
   "execution_count": null,
   "metadata": {},
   "outputs": [],
   "source": [
    "#各列需要取最大值的指标\n",
    "t=[]\n",
    "for i in range(9):\n",
    "    if i in [1,2,4,7,8]:\n",
    "        t.append(c[:,i].max())\n",
    "    else:\n",
    "        t.append(0)"
   ]
  },
  {
   "cell_type": "code",
   "execution_count": null,
   "metadata": {},
   "outputs": [],
   "source": [
    "#for循环打分，数据量很大时考虑改进\n",
    "try:\n",
    "  for i in range(len(c)):\n",
    "    for j in range(9):\n",
    "        if j==0:\n",
    "            if c[i][j]==1:\n",
    "                s[i][j]=5\n",
    "            else:\n",
    "                s[i][j]=10\n",
    "        if j==2 or j==7 or j==8 : \n",
    "            s[i][j]=c[i][j]/t[j]*10\n",
    "        if j==1 or j==4 :\n",
    "            s[i][j]=(1-c[i][j]/t[j])*10\n",
    "        if j==3:\n",
    "            if c[i][j]==1:\n",
    "                s[i][j]=5\n",
    "            else:\n",
    "                s[i][j]=10\n",
    "        if j==5:\n",
    "            if c[i][6]==1:\n",
    "                if 0<c[i][j]<=10:\n",
    "                    s[i][j]=1\n",
    "                if 10<c[i][j]<=25:\n",
    "                    s[i][j]=2\n",
    "                if 25<c[i][j]<=50:\n",
    "                    s[i][j]=3\n",
    "                if c[i][j]>50:\n",
    "                    s[i][j]=5\n",
    "            elif c[i][6]==2:\n",
    "                if 0<c[i][j]<=10:\n",
    "                    s[i][j]=6\n",
    "                if 10<c[i][j]<=25:\n",
    "                    s[i][j]=7\n",
    "                if 25<c[i][j]<=50:\n",
    "                    s[i][j]=8\n",
    "                if c[i][j]>50:\n",
    "                    s[i][j]=10\n",
    "       \n",
    "except ValueError:\n",
    "    print(\"wrong\")\n",
    "print(s)          "
   ]
  },
  {
   "cell_type": "code",
   "execution_count": null,
   "metadata": {},
   "outputs": [],
   "source": [
    "#各指标得分乘权重并相加；权重可以修改，是根据层次分析法获得\n",
    "qq=[0.3898,0.2183,0.1073,0.0678,0.0636,0.1533,0,0.5,0.5]\n",
    "ss=np.dot(s,qq)\n",
    "ss"
   ]
  },
  {
   "cell_type": "code",
   "execution_count": null,
   "metadata": {},
   "outputs": [],
   "source": [
    "#风险值排序 输出三列分别为（管道编号，风险值，风险排序）\n",
    "kk=np.arange(1,len(ss)+1)\n",
    "ss=np.column_stack((kk,ss))\n",
    "ss=ss[np.lexsort(-ss.T)]\n",
    "ss=np.column_stack((ss,kk))\n",
    "ss"
   ]
  },
  {
   "cell_type": "code",
   "execution_count": null,
   "metadata": {},
   "outputs": [],
   "source": [
    "#输出结果到文件\n",
    "np.savetxt('风险值2.csv',ss,fmt='%.3f',delimiter=',')"
   ]
  },
  {
   "cell_type": "code",
   "execution_count": null,
   "metadata": {},
   "outputs": [],
   "source": [
    "#不采用科学计数法表示输出结果\n",
    "np.set_printoptions(suppress=True)\n",
    "print(ss)"
   ]
  }
 ],
 "metadata": {
  "kernelspec": {
   "display_name": "Python 3",
   "language": "python",
   "name": "python3"
  },
  "language_info": {
   "codemirror_mode": {
    "name": "ipython",
    "version": 3
   },
   "file_extension": ".py",
   "mimetype": "text/x-python",
   "name": "python",
   "nbconvert_exporter": "python",
   "pygments_lexer": "ipython3",
   "version": "3.7.6"
  }
 },
 "nbformat": 4,
 "nbformat_minor": 4
}
